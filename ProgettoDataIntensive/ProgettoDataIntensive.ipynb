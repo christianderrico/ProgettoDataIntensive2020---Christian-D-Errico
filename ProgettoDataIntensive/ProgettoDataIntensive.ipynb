{
 "cells": [
  {
   "cell_type": "markdown",
   "metadata": {},
   "source": [
    "Elaborato di Progetto - Data Intensive 2020, Christian D'Errico"
   ]
  },
  {
   "cell_type": "markdown",
   "metadata": {},
   "source": [
    "Setup delle librerie e definizioni di funzioni utili:"
   ]
  },
  {
   "cell_type": "code",
   "execution_count": 1,
   "metadata": {},
   "outputs": [
    {
     "name": "stderr",
     "output_type": "stream",
     "text": [
      "[nltk_data] Downloading package punkt to C:\\Users\\Famiglia\n",
      "[nltk_data]     D'Errico\\AppData\\Roaming\\nltk_data...\n",
      "[nltk_data]   Package punkt is already up-to-date!\n",
      "[nltk_data] Downloading package vader_lexicon to C:\\Users\\Famiglia\n",
      "[nltk_data]     D'Errico\\AppData\\Roaming\\nltk_data...\n",
      "[nltk_data]   Package vader_lexicon is already up-to-date!\n",
      "[nltk_data] Downloading package averaged_perceptron_tagger to\n",
      "[nltk_data]     C:\\Users\\Famiglia\n",
      "[nltk_data]     D'Errico\\AppData\\Roaming\\nltk_data...\n",
      "[nltk_data]   Package averaged_perceptron_tagger is already up-to-\n",
      "[nltk_data]       date!\n",
      "[nltk_data] Downloading package stopwords to C:\\Users\\Famiglia\n",
      "[nltk_data]     D'Errico\\AppData\\Roaming\\nltk_data...\n",
      "[nltk_data]   Package stopwords is already up-to-date!\n"
     ]
    }
   ],
   "source": [
    "import numpy as np\n",
    "import pandas as pd\n",
    "import matplotlib.pyplot as plt\n",
    "import nltk\n",
    "%matplotlib inline\n",
    "import os\n",
    "from bs4 import BeautifulSoup\n",
    "import random\n",
    "import re\n",
    "import colorama\n",
    "import time\n",
    "import timeit\n",
    "from colorama import Back, Fore, Style\n",
    "from sklearn.linear_model import LogisticRegression, Perceptron\n",
    "from sklearn.feature_extraction.text import TfidfVectorizer\n",
    "from sklearn.pipeline import Pipeline\n",
    "from sklearn.model_selection import KFold, StratifiedKFold\n",
    "from sklearn.model_selection import train_test_split\n",
    "from sklearn.feature_extraction.text import CountVectorizer\n",
    "from sklearn.metrics import confusion_matrix\n",
    "from sklearn.model_selection import GridSearchCV\n",
    "from sklearn.decomposition import TruncatedSVD\n",
    "from sklearn.preprocessing import Normalizer\n",
    "from sklearn.metrics import precision_score, recall_score, f1_score\n",
    "from sklearn.metrics import f1_score\n",
    "from scipy.stats import norm\n",
    "from sklearn.metrics import accuracy_score\n",
    "from nltk.sentiment.vader import SentimentIntensityAnalyzer\n",
    "\n",
    "nltk.download('punkt');\n",
    "nltk.download(\"vader_lexicon\");\n",
    "nltk.download(\"averaged_perceptron_tagger\");\n",
    "nltk.download(\"stopwords\");"
   ]
  },
  {
   "cell_type": "code",
   "execution_count": 2,
   "metadata": {},
   "outputs": [],
   "source": [
    "import warnings\n",
    "warnings.simplefilter(action='ignore', category=FutureWarning)"
   ]
  },
  {
   "cell_type": "code",
   "execution_count": 3,
   "metadata": {},
   "outputs": [],
   "source": [
    "def conf_interval(a, N, Z=1.96):\n",
    "    c = (2 * N * a + Z**2) / (2 * (N + Z**2))\n",
    "    d = Z * np.sqrt(Z**2 + 4*N*a - 4*N*a**2) / (2 * (N + Z**2))\n",
    "    return c - d, c + d"
   ]
  },
  {
   "cell_type": "code",
   "execution_count": 4,
   "metadata": {},
   "outputs": [],
   "source": [
    "def model_conf_interval(model, X, y, level=0.95):\n",
    "    if type(model) == float:\n",
    "        a = model\n",
    "    else:\n",
    "        a = model.score(X, y)\n",
    "    N = len(X)\n",
    "    Z = norm.ppf((1 + level) / 2)\n",
    "    return conf_interval(a, N, Z)"
   ]
  },
  {
   "cell_type": "code",
   "execution_count": 5,
   "metadata": {},
   "outputs": [],
   "source": [
    "def diff_interval(a1, a2, N1, N2, Z):\n",
    "    d = abs(a1 - a2)\n",
    "    sd = np.sqrt(a1 * (1-a1) / N1 + a2 * (1-a2) / N2)\n",
    "    return d - Z * sd, d + Z * sd"
   ]
  },
  {
   "cell_type": "code",
   "execution_count": 6,
   "metadata": {},
   "outputs": [],
   "source": [
    "def model_diff_interval(m1, m2, X, y, level=0.95):\n",
    "    a1 = m1.score(X, y)\n",
    "    if type(m2) == float: \n",
    "        a2 = m2\n",
    "    else:\n",
    "        a2 = m2.score(X, y)\n",
    "    N = len(X)\n",
    "    Z = norm.ppf((1 + level) / 2)\n",
    "    return diff_interval(a1, a2, N, N, Z)"
   ]
  },
  {
   "cell_type": "markdown",
   "metadata": {},
   "source": [
    "Prima di procedere con l'analisi, ringrazio gli autori per aver reso disponibile il dataset e cito l'articolo al seguente URL che lo presenta: https://ai.stanford.edu/~amaas/papers/wvSent_acl2011.pdf, Andrew L. Maas, Raymond E. Daly, Peter T. Pham, Dan Huang, Andrew Y. Ng, and Christopher Potts. (2011). Learning Word Vectors for Sentiment Analysis. The 49th Annual Meeting of the Association for Computational Linguistics (ACL 2011)\n",
    "\n",
    "References\n",
    "\n",
    "Potts, Christopher. 2011. On the negativity of negation. In Nan Li and\n",
    "David Lutz, eds., Proceedings of Semantics and Linguistic Theory 20,\n",
    "636-659.\n",
    "\n",
    "Contact\n",
    "\n",
    "For questions/comments/corrections please contact Andrew Maas\n",
    "amaas@cs.stanford.edu"
   ]
  },
  {
   "cell_type": "code",
   "execution_count": 7,
   "metadata": {},
   "outputs": [],
   "source": [
    "t = time.time() #necessario a misurare la durata di esecuzione del notebook"
   ]
  },
  {
   "cell_type": "markdown",
   "metadata": {},
   "source": [
    "# Sentiment Analsys su recensioni di film tratte da IMDB\n",
    "\n",
    "L'analisi del sentiment o sentiment analysis (nota anche come opinion mining) è un campo dell'elaborazione del linguaggio naturale che si occupa di costruire sistemi per l'identificazione ed estrazione di opinioni dal testo."
   ]
  },
  {
   "cell_type": "markdown",
   "metadata": {},
   "source": [
    "In questo caso, si è voluto sottoporre ad un tale studio un sottoinsieme di 10.000 recensioni tratte dal sito https://www.imdb.com/, per scoprire quale fosse l'orientamento dei giudizi prodotti dagl'utenti sulle produzioni cinematografiche."
   ]
  },
  {
   "cell_type": "markdown",
   "metadata": {},
   "source": [
    "# Esportazione dei dati\n",
    "\n",
    "I dati vengono prima elaborati e caricati in un DataFrame Pandas:\n",
    "\n",
    "- il contenuto di ogni file .txt è il testo della recensione\n",
    "- il nome di ogni file è composto dalle seguenti parti: \"`id del film in questione`_`punteggio attribuito dall'utente`\"\n",
    "  "
   ]
  },
  {
   "cell_type": "code",
   "execution_count": 8,
   "metadata": {},
   "outputs": [],
   "source": [
    "files = []  #lista che contiene i vari file .txt con il loro percorso \n",
    "for dirpath, dirnames, filenames in os.walk(\"C:\\\\Users\\\\Famiglia D\\'Errico\\\\Desktop\\\\Tesi2020\\\\files\\\\regioni\\\\aclImdb - Copia\"):\n",
    "    for file in filenames:\n",
    "        files.append(dirpath + '\\\\' + file)"
   ]
  },
  {
   "cell_type": "markdown",
   "metadata": {},
   "source": [
    "Per ogni file è stato letto il contenuto e dal nome sono stati prelevati i campi relativi ad id e valutazione:"
   ]
  },
  {
   "cell_type": "code",
   "execution_count": 9,
   "metadata": {},
   "outputs": [],
   "source": [
    "reviews = []\n",
    "for file in files:\n",
    "    with open(file, \"r\", encoding=\"utf8\") as f:\n",
    "        reviews.append((f.readlines())[0])"
   ]
  },
  {
   "cell_type": "code",
   "execution_count": 10,
   "metadata": {},
   "outputs": [],
   "source": [
    "film_dict = {\"film_id\": pd.Series([int(f.split(\"\\\\\")[-1].split(\"_\")[0]) for f in files]), \n",
    "        \"rating\": pd.Series([int(f.split(\"\\\\\")[-1].split(\"_\")[1].split(\".\")[0]) for f in files]), \n",
    "          \"review\": reviews} "
   ]
  },
  {
   "cell_type": "code",
   "execution_count": 11,
   "metadata": {},
   "outputs": [],
   "source": [
    "film_reviews_full = pd.DataFrame(film_dict)\n",
    "film_reviews_full = film_reviews_full.sort_values(by=\"film_id\").reset_index().drop(columns=\"index\")"
   ]
  },
  {
   "cell_type": "markdown",
   "metadata": {},
   "source": [
    "Ecco il dataset prodotto da questa prima fase di elaborazione:\n",
    "- sono presenti 50.000 recensioni\n",
    "- Le colonne sono 3:\n",
    "    - `film_id` contiene gli identificatori numerici associati ai film recensiti\n",
    "    - `rating` contiene i punteggi che gli utenti hanno attribuito ai film\n",
    "    - `review` contiene i testi della recensioni redatte dagli utenti"
   ]
  },
  {
   "cell_type": "code",
   "execution_count": 12,
   "metadata": {},
   "outputs": [
    {
     "data": {
      "text/html": [
       "<div>\n",
       "<style scoped>\n",
       "    .dataframe tbody tr th:only-of-type {\n",
       "        vertical-align: middle;\n",
       "    }\n",
       "\n",
       "    .dataframe tbody tr th {\n",
       "        vertical-align: top;\n",
       "    }\n",
       "\n",
       "    .dataframe thead th {\n",
       "        text-align: right;\n",
       "    }\n",
       "</style>\n",
       "<table border=\"1\" class=\"dataframe\">\n",
       "  <thead>\n",
       "    <tr style=\"text-align: right;\">\n",
       "      <th></th>\n",
       "      <th>film_id</th>\n",
       "      <th>rating</th>\n",
       "      <th>review</th>\n",
       "    </tr>\n",
       "  </thead>\n",
       "  <tbody>\n",
       "    <tr>\n",
       "      <th>0</th>\n",
       "      <td>0</td>\n",
       "      <td>2</td>\n",
       "      <td>Once again Mr. Costner has dragged out a movie...</td>\n",
       "    </tr>\n",
       "    <tr>\n",
       "      <th>1</th>\n",
       "      <td>0</td>\n",
       "      <td>10</td>\n",
       "      <td>I went and saw this movie last night after bei...</td>\n",
       "    </tr>\n",
       "    <tr>\n",
       "      <th>2</th>\n",
       "      <td>0</td>\n",
       "      <td>3</td>\n",
       "      <td>Story of a man who has unnatural feelings for ...</td>\n",
       "    </tr>\n",
       "    <tr>\n",
       "      <th>3</th>\n",
       "      <td>0</td>\n",
       "      <td>9</td>\n",
       "      <td>Bromwell High is a cartoon comedy. It ran at t...</td>\n",
       "    </tr>\n",
       "    <tr>\n",
       "      <th>4</th>\n",
       "      <td>1</td>\n",
       "      <td>10</td>\n",
       "      <td>My boyfriend and I went to watch The Guardian....</td>\n",
       "    </tr>\n",
       "  </tbody>\n",
       "</table>\n",
       "</div>"
      ],
      "text/plain": [
       "   film_id  rating                                             review\n",
       "0        0       2  Once again Mr. Costner has dragged out a movie...\n",
       "1        0      10  I went and saw this movie last night after bei...\n",
       "2        0       3  Story of a man who has unnatural feelings for ...\n",
       "3        0       9  Bromwell High is a cartoon comedy. It ran at t...\n",
       "4        1      10  My boyfriend and I went to watch The Guardian...."
      ]
     },
     "execution_count": 12,
     "metadata": {},
     "output_type": "execute_result"
    }
   ],
   "source": [
    "film_reviews_full.head()"
   ]
  },
  {
   "cell_type": "code",
   "execution_count": 13,
   "metadata": {},
   "outputs": [
    {
     "data": {
      "text/html": [
       "<div>\n",
       "<style scoped>\n",
       "    .dataframe tbody tr th:only-of-type {\n",
       "        vertical-align: middle;\n",
       "    }\n",
       "\n",
       "    .dataframe tbody tr th {\n",
       "        vertical-align: top;\n",
       "    }\n",
       "\n",
       "    .dataframe thead th {\n",
       "        text-align: right;\n",
       "    }\n",
       "</style>\n",
       "<table border=\"1\" class=\"dataframe\">\n",
       "  <thead>\n",
       "    <tr style=\"text-align: right;\">\n",
       "      <th></th>\n",
       "      <th>film_id</th>\n",
       "      <th>rating</th>\n",
       "      <th>review</th>\n",
       "    </tr>\n",
       "  </thead>\n",
       "  <tbody>\n",
       "    <tr>\n",
       "      <th>49995</th>\n",
       "      <td>12498</td>\n",
       "      <td>7</td>\n",
       "      <td>I'm torn about this show. While MOST parts of ...</td>\n",
       "    </tr>\n",
       "    <tr>\n",
       "      <th>49996</th>\n",
       "      <td>12499</td>\n",
       "      <td>10</td>\n",
       "      <td>I was plagued by nightmares involving Sesame S...</td>\n",
       "    </tr>\n",
       "    <tr>\n",
       "      <th>49997</th>\n",
       "      <td>12499</td>\n",
       "      <td>2</td>\n",
       "      <td>I went to the movie as a Sneak Preview in Aust...</td>\n",
       "    </tr>\n",
       "    <tr>\n",
       "      <th>49998</th>\n",
       "      <td>12499</td>\n",
       "      <td>7</td>\n",
       "      <td>I always feel strange and guilty saying it (be...</td>\n",
       "    </tr>\n",
       "    <tr>\n",
       "      <th>49999</th>\n",
       "      <td>12499</td>\n",
       "      <td>1</td>\n",
       "      <td>This movie was sooo bad. It wasn't even funny ...</td>\n",
       "    </tr>\n",
       "  </tbody>\n",
       "</table>\n",
       "</div>"
      ],
      "text/plain": [
       "       film_id  rating                                             review\n",
       "49995    12498       7  I'm torn about this show. While MOST parts of ...\n",
       "49996    12499      10  I was plagued by nightmares involving Sesame S...\n",
       "49997    12499       2  I went to the movie as a Sneak Preview in Aust...\n",
       "49998    12499       7  I always feel strange and guilty saying it (be...\n",
       "49999    12499       1  This movie was sooo bad. It wasn't even funny ..."
      ]
     },
     "execution_count": 13,
     "metadata": {},
     "output_type": "execute_result"
    }
   ],
   "source": [
    "film_reviews_full.tail()"
   ]
  },
  {
   "cell_type": "code",
   "execution_count": 14,
   "metadata": {},
   "outputs": [
    {
     "data": {
      "text/plain": [
       "(50000, 3)"
      ]
     },
     "execution_count": 14,
     "metadata": {},
     "output_type": "execute_result"
    }
   ],
   "source": [
    "film_reviews_full.shape"
   ]
  },
  {
   "cell_type": "markdown",
   "metadata": {},
   "source": [
    "# Rimozione tag HTML\n",
    "\n",
    "Il testo delle recensioni contiene alcuni tag HTML `<br />`, che contribuiscono a \"sporcare\" i dati testuali:"
   ]
  },
  {
   "cell_type": "code",
   "execution_count": 15,
   "metadata": {},
   "outputs": [
    {
     "name": "stdout",
     "output_type": "stream",
     "text": [
      "This is an example of why the majority of action films are the same. Generic and boring, there's really nothing worth watching here. A complete waste of the then barely-tapped talents of Ice-T and Ice Cube, who've each proven many times over that they are capable of acting, and acting well. Don't bother with this one, go see New Jack City, Ricochet or watch New York Undercover for Ice-T, or Boyz n the Hood, Higher Learning or Friday for Ice Cube and see the real deal. Ice-T's horribly cliched dialogue alone makes this film grate at the teeth, and I'm still wondering what the heck Bill Paxton was doing in this film? And why the heck does he always play the exact same character? From Aliens onward, every film I've seen with Bill Paxton has him playing the exact same irritating character, and at least in Aliens his character died, which made it somewhat gratifying...\u001b[100m\u001b[37m<br /><br />\u001b[0mOverall, this is second-rate action trash. There are countless better films to see, and if you really want to see this one, watch Judgement Night, which is practically a carbon copy but has better acting and a better script. The only thing that made this at all worth watching was a decent hand on the camera - the cinematography was almost refreshing, which comes close to making up for the horrible film itself - but not quite. 4/10.\n"
     ]
    }
   ],
   "source": [
    "substrings = re.split('(<br />)', reviews[1])\n",
    "substrings.remove('')\n",
    "print(substrings[0] + f\"{Back.LIGHTBLACK_EX}\" + f\"{Fore.WHITE}\" + substrings[1] + substrings[2] + f\"{Style.RESET_ALL}\" + substrings[3])"
   ]
  },
  {
   "cell_type": "markdown",
   "metadata": {},
   "source": [
    "Pertanto, utilizzando il parser HTML del framework BeautifulSoup per rimuovere i tag con scarso significato semantico:"
   ]
  },
  {
   "cell_type": "code",
   "execution_count": 16,
   "metadata": {},
   "outputs": [],
   "source": [
    "reviews_filtered = [BeautifulSoup(rev, \"html.parser\").get_text() for rev in reviews]\n",
    "film_reviews_full['review'] = reviews_filtered"
   ]
  },
  {
   "cell_type": "markdown",
   "metadata": {},
   "source": [
    "Ecco il testo \"depurato\" dei `<br />`:"
   ]
  },
  {
   "cell_type": "code",
   "execution_count": 17,
   "metadata": {},
   "outputs": [
    {
     "data": {
      "text/plain": [
       "\"This is an example of why the majority of action films are the same. Generic and boring, there's really nothing worth watching here. A complete waste of the then barely-tapped talents of Ice-T and Ice Cube, who've each proven many times over that they are capable of acting, and acting well. Don't bother with this one, go see New Jack City, Ricochet or watch New York Undercover for Ice-T, or Boyz n the Hood, Higher Learning or Friday for Ice Cube and see the real deal. Ice-T's horribly cliched dialogue alone makes this film grate at the teeth, and I'm still wondering what the heck Bill Paxton was doing in this film? And why the heck does he always play the exact same character? From Aliens onward, every film I've seen with Bill Paxton has him playing the exact same irritating character, and at least in Aliens his character died, which made it somewhat gratifying...Overall, this is second-rate action trash. There are countless better films to see, and if you really want to see this one, watch Judgement Night, which is practically a carbon copy but has better acting and a better script. The only thing that made this at all worth watching was a decent hand on the camera - the cinematography was almost refreshing, which comes close to making up for the horrible film itself - but not quite. 4/10.\""
      ]
     },
     "execution_count": 17,
     "metadata": {},
     "output_type": "execute_result"
    }
   ],
   "source": [
    "reviews_filtered[1]"
   ]
  },
  {
   "cell_type": "code",
   "execution_count": 18,
   "metadata": {},
   "outputs": [],
   "source": [
    "film_dict = {\"film_id\": pd.Series([int(f.split(\"\\\\\")[-1].split(\"_\")[0]) for f in files]), \n",
    "        \"rating\": pd.Series([int(f.split(\"\\\\\")[-1].split(\"_\")[1].split(\".\")[0]) for f in files]), \n",
    "          \"review\": reviews_filtered}\n",
    "film_reviews_full = pd.DataFrame(film_dict)"
   ]
  },
  {
   "cell_type": "markdown",
   "metadata": {},
   "source": [
    "Aumento il numero di caratteri per migliorare la visualizzazione della colonna `review`:"
   ]
  },
  {
   "cell_type": "code",
   "execution_count": 19,
   "metadata": {},
   "outputs": [
    {
     "data": {
      "text/html": [
       "<div>\n",
       "<style scoped>\n",
       "    .dataframe tbody tr th:only-of-type {\n",
       "        vertical-align: middle;\n",
       "    }\n",
       "\n",
       "    .dataframe tbody tr th {\n",
       "        vertical-align: top;\n",
       "    }\n",
       "\n",
       "    .dataframe thead th {\n",
       "        text-align: right;\n",
       "    }\n",
       "</style>\n",
       "<table border=\"1\" class=\"dataframe\">\n",
       "  <thead>\n",
       "    <tr style=\"text-align: right;\">\n",
       "      <th></th>\n",
       "      <th>film_id</th>\n",
       "      <th>rating</th>\n",
       "      <th>review</th>\n",
       "    </tr>\n",
       "  </thead>\n",
       "  <tbody>\n",
       "    <tr>\n",
       "      <th>0</th>\n",
       "      <td>0</td>\n",
       "      <td>2</td>\n",
       "      <td>Once again Mr. Costner has dragged out a movie for far longer than necessary. Aside from the ter...</td>\n",
       "    </tr>\n",
       "    <tr>\n",
       "      <th>12500</th>\n",
       "      <td>0</td>\n",
       "      <td>10</td>\n",
       "      <td>I went and saw this movie last night after being coaxed to by a few friends of mine. I'll admit ...</td>\n",
       "    </tr>\n",
       "    <tr>\n",
       "      <th>25000</th>\n",
       "      <td>0</td>\n",
       "      <td>3</td>\n",
       "      <td>Story of a man who has unnatural feelings for a pig. Starts out with a opening scene that is a t...</td>\n",
       "    </tr>\n",
       "    <tr>\n",
       "      <th>37500</th>\n",
       "      <td>0</td>\n",
       "      <td>9</td>\n",
       "      <td>Bromwell High is a cartoon comedy. It ran at the same time as some other programs about school l...</td>\n",
       "    </tr>\n",
       "    <tr>\n",
       "      <th>16111</th>\n",
       "      <td>1</td>\n",
       "      <td>10</td>\n",
       "      <td>My boyfriend and I went to watch The Guardian.At first I didn't want to watch it, but I loved th...</td>\n",
       "    </tr>\n",
       "    <tr>\n",
       "      <th>...</th>\n",
       "      <td>...</td>\n",
       "      <td>...</td>\n",
       "      <td>...</td>\n",
       "    </tr>\n",
       "    <tr>\n",
       "      <th>15274</th>\n",
       "      <td>12498</td>\n",
       "      <td>7</td>\n",
       "      <td>I'm torn about this show. While MOST parts of it I found to be HILARIOUS, other parts of it I fo...</td>\n",
       "    </tr>\n",
       "    <tr>\n",
       "      <th>15275</th>\n",
       "      <td>12499</td>\n",
       "      <td>10</td>\n",
       "      <td>I was plagued by nightmares involving Sesame Street and the Muppet Show during my childhood. I l...</td>\n",
       "    </tr>\n",
       "    <tr>\n",
       "      <th>27775</th>\n",
       "      <td>12499</td>\n",
       "      <td>2</td>\n",
       "      <td>I went to the movie as a Sneak Preview in Austria. So didn't have an idea what I am going to see...</td>\n",
       "    </tr>\n",
       "    <tr>\n",
       "      <th>40275</th>\n",
       "      <td>12499</td>\n",
       "      <td>7</td>\n",
       "      <td>I always feel strange and guilty saying it (because I'm a fairly well-educated non-teenager), bu...</td>\n",
       "    </tr>\n",
       "    <tr>\n",
       "      <th>2775</th>\n",
       "      <td>12499</td>\n",
       "      <td>1</td>\n",
       "      <td>This movie was sooo bad. It wasn't even funny at all. Not even the sarcastic scenes were funny. ...</td>\n",
       "    </tr>\n",
       "  </tbody>\n",
       "</table>\n",
       "<p>50000 rows × 3 columns</p>\n",
       "</div>"
      ],
      "text/plain": [
       "       film_id  rating  \\\n",
       "0            0       2   \n",
       "12500        0      10   \n",
       "25000        0       3   \n",
       "37500        0       9   \n",
       "16111        1      10   \n",
       "...        ...     ...   \n",
       "15274    12498       7   \n",
       "15275    12499      10   \n",
       "27775    12499       2   \n",
       "40275    12499       7   \n",
       "2775     12499       1   \n",
       "\n",
       "                                                                                                    review  \n",
       "0      Once again Mr. Costner has dragged out a movie for far longer than necessary. Aside from the ter...  \n",
       "12500  I went and saw this movie last night after being coaxed to by a few friends of mine. I'll admit ...  \n",
       "25000  Story of a man who has unnatural feelings for a pig. Starts out with a opening scene that is a t...  \n",
       "37500  Bromwell High is a cartoon comedy. It ran at the same time as some other programs about school l...  \n",
       "16111  My boyfriend and I went to watch The Guardian.At first I didn't want to watch it, but I loved th...  \n",
       "...                                                                                                    ...  \n",
       "15274  I'm torn about this show. While MOST parts of it I found to be HILARIOUS, other parts of it I fo...  \n",
       "15275  I was plagued by nightmares involving Sesame Street and the Muppet Show during my childhood. I l...  \n",
       "27775  I went to the movie as a Sneak Preview in Austria. So didn't have an idea what I am going to see...  \n",
       "40275  I always feel strange and guilty saying it (because I'm a fairly well-educated non-teenager), bu...  \n",
       "2775   This movie was sooo bad. It wasn't even funny at all. Not even the sarcastic scenes were funny. ...  \n",
       "\n",
       "[50000 rows x 3 columns]"
      ]
     },
     "execution_count": 19,
     "metadata": {},
     "output_type": "execute_result"
    }
   ],
   "source": [
    "pd.options.display.max_colwidth = 100\n",
    "film_reviews_full.sort_values(by='film_id', inplace=True)\n",
    "film_reviews_full"
   ]
  },
  {
   "cell_type": "markdown",
   "metadata": {},
   "source": [
    "# 1) Analisi esplorativa"
   ]
  },
  {
   "cell_type": "markdown",
   "metadata": {},
   "source": [
    "Il numero di recensioni per valutazioni è: "
   ]
  },
  {
   "cell_type": "code",
   "execution_count": 20,
   "metadata": {},
   "outputs": [
    {
     "data": {
      "text/plain": [
       "1     10122\n",
       "10     9731\n",
       "8      5859\n",
       "4      5331\n",
       "3      4961\n",
       "7      4803\n",
       "9      4607\n",
       "2      4586\n",
       "Name: rating, dtype: int64"
      ]
     },
     "execution_count": 20,
     "metadata": {},
     "output_type": "execute_result"
    }
   ],
   "source": [
    "film_reviews_full['rating'].value_counts()"
   ]
  },
  {
   "cell_type": "markdown",
   "metadata": {},
   "source": [
    "Il grafico a torta che segue mostra visivamente questi dati:"
   ]
  },
  {
   "cell_type": "code",
   "execution_count": 21,
   "metadata": {},
   "outputs": [
    {
     "data": {
      "image/png": "[encoded data removed]",
      "text/plain": [
       "<Figure size 432x288 with 1 Axes>"
      ]
     },
     "metadata": {},
     "output_type": "display_data"
    }
   ],
   "source": [
    "film_reviews_full['rating'].value_counts().plot.pie();"
   ]
  },
  {
   "cell_type": "markdown",
   "metadata": {},
   "source": [
    "# Binarizzazione\n",
    "\n",
    "Una recensione è considerata negativa se il valore assegnato risulta minore o uguale a 4, mentre una recensione positiva ha un punteggio superiore o uguale a 7:"
   ]
  },
  {
   "cell_type": "code",
   "execution_count": 22,
   "metadata": {},
   "outputs": [],
   "source": [
    "film_reviews_full['label'] = np.where(film_reviews_full['rating'] <= 4, \"neg\", \"pos\")"
   ]
  },
  {
   "cell_type": "markdown",
   "metadata": {},
   "source": [
    "In quanto tali, le recensioni sono equamente distribuite in due parti equinumerose:\n",
    "- 25.000 recensioni positive\n",
    "- 25.000 recensioni negative"
   ]
  },
  {
   "cell_type": "code",
   "execution_count": 23,
   "metadata": {},
   "outputs": [
    {
     "data": {
      "text/plain": [
       "pos    25000\n",
       "neg    25000\n",
       "Name: label, dtype: int64"
      ]
     },
     "execution_count": 23,
     "metadata": {},
     "output_type": "execute_result"
    }
   ],
   "source": [
    "film_reviews_full['label'].value_counts()"
   ]
  },
  {
   "cell_type": "code",
   "execution_count": 24,
   "metadata": {},
   "outputs": [
    {
     "data": {
      "image/png": "[encoded data removed]",
      "text/plain": [
       "<Figure size 432x288 with 1 Axes>"
      ]
     },
     "metadata": {},
     "output_type": "display_data"
    }
   ],
   "source": [
    "film_reviews_full['label'].value_counts().plot.pie();"
   ]
  },
  {
   "cell_type": "markdown",
   "metadata": {},
   "source": [
    "**NOTA**: *Per semplificare i calcoli in fase di addestramento e validazione dei modelli ho ridotto il numero di istanze da 50000 a 10000, mantenendo invariata la distribuzione delle classi*"
   ]
  },
  {
   "cell_type": "code",
   "execution_count": 25,
   "metadata": {},
   "outputs": [],
   "source": [
    "a = film_reviews_full.loc[film_reviews_full['label'] == 'pos'].sample(n=5000, random_state=9)\n",
    "b = film_reviews_full.loc[film_reviews_full['label'] == 'neg'].sample(n=5000, random_state=9)\n",
    "film_reviews = a.append(b).sort_values(by='film_id')"
   ]
  },
  {
   "cell_type": "code",
   "execution_count": 26,
   "metadata": {},
   "outputs": [
    {
     "data": {
      "text/plain": [
       "1     2002\n",
       "10    1970\n",
       "8     1159\n",
       "4     1074\n",
       "3      974\n",
       "2      950\n",
       "7      944\n",
       "9      927\n",
       "Name: rating, dtype: int64"
      ]
     },
     "execution_count": 26,
     "metadata": {},
     "output_type": "execute_result"
    }
   ],
   "source": [
    "film_reviews['rating'].value_counts()"
   ]
  },
  {
   "cell_type": "code",
   "execution_count": 27,
   "metadata": {},
   "outputs": [
    {
     "data": {
      "image/png": "[encoded data removed]",
      "text/plain": [
       "<Figure size 432x288 with 1 Axes>"
      ]
     },
     "metadata": {},
     "output_type": "display_data"
    }
   ],
   "source": [
    "film_reviews['label'].value_counts().plot.pie();"
   ]
  },
  {
   "cell_type": "code",
   "execution_count": 28,
   "metadata": {},
   "outputs": [
    {
     "data": {
      "text/plain": [
       "pos    5000\n",
       "neg    5000\n",
       "Name: label, dtype: int64"
      ]
     },
     "execution_count": 28,
     "metadata": {},
     "output_type": "execute_result"
    }
   ],
   "source": [
    "film_reviews['label'].value_counts()"
   ]
  },
  {
   "cell_type": "code",
   "execution_count": 29,
   "metadata": {},
   "outputs": [
    {
     "data": {
      "text/plain": [
       "(10000, 4)"
      ]
     },
     "execution_count": 29,
     "metadata": {},
     "output_type": "execute_result"
    }
   ],
   "source": [
    "film_reviews.shape"
   ]
  },
  {
   "cell_type": "markdown",
   "metadata": {},
   "source": [
    "La colonna \"film_id\" contiene un dato non utile al problema, quindi elimino la colonna e uso come identificativo l'indice aggiunto in automatico da Pandas:"
   ]
  },
  {
   "cell_type": "code",
   "execution_count": 30,
   "metadata": {},
   "outputs": [
    {
     "data": {
      "text/html": [
       "<div>\n",
       "<style scoped>\n",
       "    .dataframe tbody tr th:only-of-type {\n",
       "        vertical-align: middle;\n",
       "    }\n",
       "\n",
       "    .dataframe tbody tr th {\n",
       "        vertical-align: top;\n",
       "    }\n",
       "\n",
       "    .dataframe thead th {\n",
       "        text-align: right;\n",
       "    }\n",
       "</style>\n",
       "<table border=\"1\" class=\"dataframe\">\n",
       "  <thead>\n",
       "    <tr style=\"text-align: right;\">\n",
       "      <th></th>\n",
       "      <th>rating</th>\n",
       "      <th>review</th>\n",
       "      <th>label</th>\n",
       "    </tr>\n",
       "  </thead>\n",
       "  <tbody>\n",
       "    <tr>\n",
       "      <th>28611</th>\n",
       "      <td>1</td>\n",
       "      <td>Robert DeNiro plays the most unbelievably intelligent illiterate of all time. This movie is so w...</td>\n",
       "      <td>neg</td>\n",
       "    </tr>\n",
       "    <tr>\n",
       "      <th>16111</th>\n",
       "      <td>10</td>\n",
       "      <td>My boyfriend and I went to watch The Guardian.At first I didn't want to watch it, but I loved th...</td>\n",
       "      <td>pos</td>\n",
       "    </tr>\n",
       "    <tr>\n",
       "      <th>17222</th>\n",
       "      <td>7</td>\n",
       "      <td>My yardstick for measuring a movie's watch-ability is if I get squirmy. If I start shifting posi...</td>\n",
       "      <td>pos</td>\n",
       "    </tr>\n",
       "    <tr>\n",
       "      <th>4722</th>\n",
       "      <td>3</td>\n",
       "      <td>It seems ever since 1982, about every two or three years we get a movie that claims to be \"The N...</td>\n",
       "      <td>neg</td>\n",
       "    </tr>\n",
       "    <tr>\n",
       "      <th>18333</th>\n",
       "      <td>7</td>\n",
       "      <td>How many movies are there that you can think of when you see a movie like this? I can't count th...</td>\n",
       "      <td>pos</td>\n",
       "    </tr>\n",
       "  </tbody>\n",
       "</table>\n",
       "</div>"
      ],
      "text/plain": [
       "       rating  \\\n",
       "28611       1   \n",
       "16111      10   \n",
       "17222       7   \n",
       "4722        3   \n",
       "18333       7   \n",
       "\n",
       "                                                                                                    review  \\\n",
       "28611  Robert DeNiro plays the most unbelievably intelligent illiterate of all time. This movie is so w...   \n",
       "16111  My boyfriend and I went to watch The Guardian.At first I didn't want to watch it, but I loved th...   \n",
       "17222  My yardstick for measuring a movie's watch-ability is if I get squirmy. If I start shifting posi...   \n",
       "4722   It seems ever since 1982, about every two or three years we get a movie that claims to be \"The N...   \n",
       "18333  How many movies are there that you can think of when you see a movie like this? I can't count th...   \n",
       "\n",
       "      label  \n",
       "28611   neg  \n",
       "16111   pos  \n",
       "17222   pos  \n",
       "4722    neg  \n",
       "18333   pos  "
      ]
     },
     "execution_count": 30,
     "metadata": {},
     "output_type": "execute_result"
    }
   ],
   "source": [
    "if \"film_id\" in film_reviews:\n",
    "    film_reviews.drop(columns=\"film_id\", inplace=True)\n",
    "film_reviews.head()"
   ]
  },
  {
   "cell_type": "markdown",
   "metadata": {},
   "source": [
    "L'istogramma che segue mostra la distribuzione dei caratteri delle recensioni: si può notare come la maggioranza delle recensioni realizzate dagl'utenti siano di una lunghezza compresa fra 0 e 2000 caratteri, e che superati la soglia dei 2000 caratteri, il numero di recensioni diminuisca progressivamente fino ad attestarsi ad un massimo di circa 10000 caratteri:"
   ]
  },
  {
   "cell_type": "code",
   "execution_count": 31,
   "metadata": {},
   "outputs": [
    {
     "data": {
      "image/png": "[encoded data removed]",
      "text/plain": [
       "<Figure size 432x288 with 1 Axes>"
      ]
     },
     "metadata": {
      "needs_background": "light"
     },
     "output_type": "display_data"
    }
   ],
   "source": [
    "plt.hist(film_reviews['review'].str.len(), bins=20);"
   ]
  },
  {
   "cell_type": "markdown",
   "metadata": {},
   "source": [
    "Con maggior precisione, il numero medio di caratteri si attesta intorno ai 1300 caratteri, la recensione più breve è di circa 52 caratteri, la più corposa di 10363, mentre la maggioranza delle recensioni non è più lunga di 2000"
   ]
  },
  {
   "cell_type": "code",
   "execution_count": 32,
   "metadata": {},
   "outputs": [
    {
     "data": {
      "text/html": [
       "<div>\n",
       "<style scoped>\n",
       "    .dataframe tbody tr th:only-of-type {\n",
       "        vertical-align: middle;\n",
       "    }\n",
       "\n",
       "    .dataframe tbody tr th {\n",
       "        vertical-align: top;\n",
       "    }\n",
       "\n",
       "    .dataframe thead th {\n",
       "        text-align: right;\n",
       "    }\n",
       "</style>\n",
       "<table border=\"1\" class=\"dataframe\">\n",
       "  <thead>\n",
       "    <tr style=\"text-align: right;\">\n",
       "      <th></th>\n",
       "      <th>review</th>\n",
       "    </tr>\n",
       "  </thead>\n",
       "  <tbody>\n",
       "    <tr>\n",
       "      <th>count</th>\n",
       "      <td>10000.000000</td>\n",
       "    </tr>\n",
       "    <tr>\n",
       "      <th>mean</th>\n",
       "      <td>1270.123600</td>\n",
       "    </tr>\n",
       "    <tr>\n",
       "      <th>std</th>\n",
       "      <td>943.140377</td>\n",
       "    </tr>\n",
       "    <tr>\n",
       "      <th>min</th>\n",
       "      <td>52.000000</td>\n",
       "    </tr>\n",
       "    <tr>\n",
       "      <th>25%</th>\n",
       "      <td>692.000000</td>\n",
       "    </tr>\n",
       "    <tr>\n",
       "      <th>50%</th>\n",
       "      <td>950.000000</td>\n",
       "    </tr>\n",
       "    <tr>\n",
       "      <th>75%</th>\n",
       "      <td>1536.000000</td>\n",
       "    </tr>\n",
       "    <tr>\n",
       "      <th>max</th>\n",
       "      <td>10099.000000</td>\n",
       "    </tr>\n",
       "  </tbody>\n",
       "</table>\n",
       "</div>"
      ],
      "text/plain": [
       "             review\n",
       "count  10000.000000\n",
       "mean    1270.123600\n",
       "std      943.140377\n",
       "min       52.000000\n",
       "25%      692.000000\n",
       "50%      950.000000\n",
       "75%     1536.000000\n",
       "max    10099.000000"
      ]
     },
     "execution_count": 32,
     "metadata": {},
     "output_type": "execute_result"
    }
   ],
   "source": [
    "pd.DataFrame(film_reviews['review'].str.len().sort_values().describe())"
   ]
  },
  {
   "cell_type": "code",
   "execution_count": 33,
   "metadata": {},
   "outputs": [
    {
     "data": {
      "text/plain": [
       "26068     52\n",
       "36109     80\n",
       "34436     94\n",
       "40286    120\n",
       "47867    131\n",
       "Name: review, dtype: int64"
      ]
     },
     "execution_count": 33,
     "metadata": {},
     "output_type": "execute_result"
    }
   ],
   "source": [
    "film_reviews['review'].str.len().sort_values().head()"
   ]
  },
  {
   "cell_type": "code",
   "execution_count": 34,
   "metadata": {},
   "outputs": [
    {
     "data": {
      "text/plain": [
       "41242     6560\n",
       "34529     6928\n",
       "34972     7665\n",
       "28533     8681\n",
       "43758    10099\n",
       "Name: review, dtype: int64"
      ]
     },
     "execution_count": 34,
     "metadata": {},
     "output_type": "execute_result"
    }
   ],
   "source": [
    "film_reviews['review'].str.len().sort_values().tail()"
   ]
  },
  {
   "cell_type": "markdown",
   "metadata": {},
   "source": [
    "Per quanto riguarda invece il numero di parole, segmentate con la funzione split per le stringhe Python, per ciascuna recensione abbiamo le seguenti stime:"
   ]
  },
  {
   "cell_type": "code",
   "execution_count": 35,
   "metadata": {},
   "outputs": [],
   "source": [
    "reviews = {\n",
    "    i : [len(film_reviews.loc[i]['review'].split())]\n",
    "    for i in film_reviews.index.to_list()\n",
    "}\n",
    "count_word = pd.DataFrame.from_dict(reviews, orient='index').rename(columns={0:'len'}).sort_values(by='len')"
   ]
  },
  {
   "cell_type": "markdown",
   "metadata": {},
   "source": [
    "La distribuzione descritta dall'istogramma seguente ci mostra che il numero di parole per la maggioranza delle recensioni si attesta fra le 10 e le 270 circa, soglia che segna l'inzio di un andamento decrescente fino ad un massimo di circa 1800 parole:"
   ]
  },
  {
   "cell_type": "code",
   "execution_count": 36,
   "metadata": {},
   "outputs": [
    {
     "data": {
      "image/png": "[encoded data removed]",
      "text/plain": [
       "<Figure size 432x288 with 1 Axes>"
      ]
     },
     "metadata": {
      "needs_background": "light"
     },
     "output_type": "display_data"
    }
   ],
   "source": [
    "plt.hist(count_word['len'], bins=20);"
   ]
  },
  {
   "cell_type": "markdown",
   "metadata": {},
   "source": [
    "Il valore medio è di circa 224 parole, la recensione più corta risulta essere di 10 parole, mentre quella più lunga di 1786, il resto dei dati conferma la distribuzione descritta precedentemente:"
   ]
  },
  {
   "cell_type": "code",
   "execution_count": 37,
   "metadata": {},
   "outputs": [
    {
     "data": {
      "text/html": [
       "<div>\n",
       "<style scoped>\n",
       "    .dataframe tbody tr th:only-of-type {\n",
       "        vertical-align: middle;\n",
       "    }\n",
       "\n",
       "    .dataframe tbody tr th {\n",
       "        vertical-align: top;\n",
       "    }\n",
       "\n",
       "    .dataframe thead th {\n",
       "        text-align: right;\n",
       "    }\n",
       "</style>\n",
       "<table border=\"1\" class=\"dataframe\">\n",
       "  <thead>\n",
       "    <tr style=\"text-align: right;\">\n",
       "      <th></th>\n",
       "      <th>len</th>\n",
       "    </tr>\n",
       "  </thead>\n",
       "  <tbody>\n",
       "    <tr>\n",
       "      <th>count</th>\n",
       "      <td>10000.000000</td>\n",
       "    </tr>\n",
       "    <tr>\n",
       "      <th>mean</th>\n",
       "      <td>224.468100</td>\n",
       "    </tr>\n",
       "    <tr>\n",
       "      <th>std</th>\n",
       "      <td>163.320743</td>\n",
       "    </tr>\n",
       "    <tr>\n",
       "      <th>min</th>\n",
       "      <td>10.000000</td>\n",
       "    </tr>\n",
       "    <tr>\n",
       "      <th>25%</th>\n",
       "      <td>125.000000</td>\n",
       "    </tr>\n",
       "    <tr>\n",
       "      <th>50%</th>\n",
       "      <td>170.000000</td>\n",
       "    </tr>\n",
       "    <tr>\n",
       "      <th>75%</th>\n",
       "      <td>272.000000</td>\n",
       "    </tr>\n",
       "    <tr>\n",
       "      <th>max</th>\n",
       "      <td>1786.000000</td>\n",
       "    </tr>\n",
       "  </tbody>\n",
       "</table>\n",
       "</div>"
      ],
      "text/plain": [
       "                len\n",
       "count  10000.000000\n",
       "mean     224.468100\n",
       "std      163.320743\n",
       "min       10.000000\n",
       "25%      125.000000\n",
       "50%      170.000000\n",
       "75%      272.000000\n",
       "max     1786.000000"
      ]
     },
     "execution_count": 37,
     "metadata": {},
     "output_type": "execute_result"
    }
   ],
   "source": [
    "count_word.describe()"
   ]
  },
  {
   "cell_type": "code",
   "execution_count": 38,
   "metadata": {},
   "outputs": [
    {
     "data": {
      "text/plain": [
       "26068    10\n",
       "36109    14\n",
       "34436    17\n",
       "15459    20\n",
       "47867    23\n",
       "Name: len, dtype: int64"
      ]
     },
     "execution_count": 38,
     "metadata": {},
     "output_type": "execute_result"
    }
   ],
   "source": [
    "count_word['len'].head()"
   ]
  },
  {
   "cell_type": "code",
   "execution_count": 39,
   "metadata": {},
   "outputs": [
    {
     "data": {
      "text/plain": [
       "41242    1138\n",
       "34529    1156\n",
       "34972    1360\n",
       "28533    1474\n",
       "43758    1786\n",
       "Name: len, dtype: int64"
      ]
     },
     "execution_count": 39,
     "metadata": {},
     "output_type": "execute_result"
    }
   ],
   "source": [
    "count_word['len'].tail()"
   ]
  },
  {
   "cell_type": "markdown",
   "metadata": {},
   "source": [
    "# Vector space model\n",
    "\n",
    "Per effettuare la Sentiment Analsys è stato definita una Bag of Word, contenente l'insieme delle parole in ogni documento, senza ripetizioni e senza considerare il loro ordine all'interno dei documenti:\n",
    "- definito un dizionario in comune, ogni recensione viene tradotta in un vettore all'interno dell'iperspazio di classificazione, in cui ad ogni singola parola viene associato un peso in relazione alla sua occorrenza all'interno delle recensioni.\n",
    "- le dimensioni dello spazio vettoriale sono date dal numero di parole distinte identificate\n",
    "- l'insieme di documenti diventa dunque rappresentabile come una matrice documenti - termini, che avrà tante righe quanti i documenti analizzati (in questo caso le recensioni) e colonne quante le parole distinte."
   ]
  },
  {
   "cell_type": "markdown",
   "metadata": {},
   "source": [
    "Il più semplice esempio di Vector Space Model può essere ottenuto utilizzando un filtro `CountVectorizer`, che converte una collezione di documenti testuali in una matrice di occorrenze dei termini"
   ]
  },
  {
   "cell_type": "markdown",
   "metadata": {},
   "source": [
    "Quest'ultimo vector space model non tiene conto però conto del peso attribuito ad ogni termine presente all'interno delle recensioni.\n",
    "Per far questo, è stato utilizzato un filtro `TfidfVectorizer`:\n",
    "- il filtro calcola il tf, un valore che indica l'importanza locale di un termine in un documento ed è pari al numero di occorrenze (o al suo logaritmo)\n",
    "- un'altro valore calcolato è l'idf, che indica l'importanza globale di un termine, tanto più alta quanto più il termine è poco comune nell'insieme complessivo dei documenti\n",
    "- infine, una volta calcolati tutti i pesi, ciascun vettore è normalizzato in modo da avere norma euclidea pari a 1, per appianare differenze di pesi tra documenti più o meno lunghi"
   ]
  },
  {
   "cell_type": "markdown",
   "metadata": {},
   "source": [
    "In questa prima analisi, ho utilizzato come classificatore il `Perceptron`, un algoritmo di apprendimento molto semplice, concettualmente simile alla discesa gradiente"
   ]
  },
  {
   "cell_type": "markdown",
   "metadata": {},
   "source": [
    "Per prima cosa preparo gli insiemi di dati che verranno forniti ai modelli: il validation set contiene circa 1/3 del totale delle recensioni, mentre il training set i restanti 2/3."
   ]
  },
  {
   "cell_type": "code",
   "execution_count": 40,
   "metadata": {},
   "outputs": [],
   "source": [
    "film_reviews_train, film_reviews_val = train_test_split(film_reviews, test_size=0.3, random_state=42)"
   ]
  },
  {
   "cell_type": "code",
   "execution_count": 41,
   "metadata": {},
   "outputs": [],
   "source": [
    "model = Pipeline([\n",
    "    (\"vectorizer\", None),\n",
    "    (\"classifier\", Perceptron())\n",
    "])"
   ]
  },
  {
   "cell_type": "markdown",
   "metadata": {},
   "source": [
    "Per la valutazione dei migliori iperparametri ho utilizzato una Grid Search con la seguente griglia:\n",
    "- i filtri da utilizzare per creare la matrice documenti - termini\n",
    "- il parametro `ngram_range` per i filtri: con questo parametro viene specificata al filtro la lunghezza dei token; in particolare si specifica se avvalersi esclusivamente di considerare esclusivamente monogrammi (token composti da una singola parola) oppure anche i digrammi (token composto da due parole)\n",
    "- il parametro `alpha`, per indicare il peso della regolarizzazione per il perceptron\n",
    "- il parametro `penalty`, per indicare il tipo di regolarizzazione da adottare"
   ]
  },
  {
   "cell_type": "code",
   "execution_count": 42,
   "metadata": {},
   "outputs": [],
   "source": [
    "grid = [{\n",
    "    'vectorizer': [CountVectorizer(), \n",
    "                   TfidfVectorizer()],\n",
    "    'vectorizer__ngram_range': [(1,1), (1,2)],\n",
    "    'classifier__alpha': [0.0001, 0.00001, 0.000001],\n",
    "    'classifier__penalty': ['l1', 'l2', None]\n",
    "    }]"
   ]
  },
  {
   "cell_type": "markdown",
   "metadata": {},
   "source": [
    "Il tipo di cross validation utilizzata è una StratifiedKFoldValidation, che a il compito di preservare all'interno dei fold la  distribuzione di partenza delle classi"
   ]
  },
  {
   "cell_type": "code",
   "execution_count": 43,
   "metadata": {},
   "outputs": [],
   "source": [
    "skf = StratifiedKFold(3, shuffle=True, random_state=42)\n",
    "gs = GridSearchCV(model, grid, cv=skf, n_jobs=6)\n",
    "gs.fit(film_reviews_train[\"review\"], film_reviews_train[\"label\"]);"
   ]
  },
  {
   "cell_type": "code",
   "execution_count": 44,
   "metadata": {},
   "outputs": [
    {
     "data": {
      "text/plain": [
       "0.876"
      ]
     },
     "execution_count": 44,
     "metadata": {},
     "output_type": "execute_result"
    }
   ],
   "source": [
    "gs.score(film_reviews_val['review'], film_reviews_val['label'])"
   ]
  },
  {
   "cell_type": "markdown",
   "metadata": {},
   "source": [
    "Questi i parametri del modello migliore:"
   ]
  },
  {
   "cell_type": "code",
   "execution_count": 45,
   "metadata": {},
   "outputs": [
    {
     "data": {
      "text/plain": [
       "classifier__alpha                                                                                                        1e-06\n",
       "classifier__penalty                                                                                                         l2\n",
       "vectorizer                 TfidfVectorizer(analyzer='word', binary=False, decode_error='strict',\\n                dtype=<cl...\n",
       "vectorizer__ngram_range                                                                                                 (1, 2)\n",
       "dtype: object"
      ]
     },
     "execution_count": 45,
     "metadata": {},
     "output_type": "execute_result"
    }
   ],
   "source": [
    "pd.Series(gs.best_params_)"
   ]
  },
  {
   "cell_type": "markdown",
   "metadata": {},
   "source": [
    "E questa la classfica dei migliori modelli:"
   ]
  },
  {
   "cell_type": "code",
   "execution_count": 46,
   "metadata": {},
   "outputs": [
    {
     "data": {
      "text/html": [
       "<div>\n",
       "<style scoped>\n",
       "    .dataframe tbody tr th:only-of-type {\n",
       "        vertical-align: middle;\n",
       "    }\n",
       "\n",
       "    .dataframe tbody tr th {\n",
       "        vertical-align: top;\n",
       "    }\n",
       "\n",
       "    .dataframe thead th {\n",
       "        text-align: right;\n",
       "    }\n",
       "</style>\n",
       "<table border=\"1\" class=\"dataframe\">\n",
       "  <thead>\n",
       "    <tr style=\"text-align: right;\">\n",
       "      <th></th>\n",
       "      <th>mean_fit_time</th>\n",
       "      <th>std_fit_time</th>\n",
       "      <th>mean_score_time</th>\n",
       "      <th>std_score_time</th>\n",
       "      <th>param_classifier__alpha</th>\n",
       "      <th>param_classifier__penalty</th>\n",
       "      <th>param_vectorizer</th>\n",
       "      <th>param_vectorizer__ngram_range</th>\n",
       "      <th>params</th>\n",
       "      <th>split0_test_score</th>\n",
       "      <th>split1_test_score</th>\n",
       "      <th>split2_test_score</th>\n",
       "      <th>mean_test_score</th>\n",
       "      <th>std_test_score</th>\n",
       "      <th>rank_test_score</th>\n",
       "    </tr>\n",
       "  </thead>\n",
       "  <tbody>\n",
       "    <tr>\n",
       "      <th>31</th>\n",
       "      <td>4.425573</td>\n",
       "      <td>0.084635</td>\n",
       "      <td>1.486683</td>\n",
       "      <td>0.451600</td>\n",
       "      <td>1e-06</td>\n",
       "      <td>l2</td>\n",
       "      <td>TfidfVectorizer(analyzer='word', binary=False, decode_error='strict',\\n                dtype=&lt;cl...</td>\n",
       "      <td>(1, 2)</td>\n",
       "      <td>{'classifier__alpha': 1e-06, 'classifier__penalty': 'l2', 'vectorizer': TfidfVectorizer(analyzer...</td>\n",
       "      <td>0.856470</td>\n",
       "      <td>0.869696</td>\n",
       "      <td>0.864552</td>\n",
       "      <td>0.863571</td>\n",
       "      <td>0.005444</td>\n",
       "      <td>1</td>\n",
       "    </tr>\n",
       "    <tr>\n",
       "      <th>35</th>\n",
       "      <td>4.078279</td>\n",
       "      <td>0.361946</td>\n",
       "      <td>1.323163</td>\n",
       "      <td>0.421963</td>\n",
       "      <td>1e-06</td>\n",
       "      <td>None</td>\n",
       "      <td>TfidfVectorizer(analyzer='word', binary=False, decode_error='strict',\\n                dtype=&lt;cl...</td>\n",
       "      <td>(1, 2)</td>\n",
       "      <td>{'classifier__alpha': 1e-06, 'classifier__penalty': None, 'vectorizer': TfidfVectorizer(analyzer...</td>\n",
       "      <td>0.856898</td>\n",
       "      <td>0.868838</td>\n",
       "      <td>0.860266</td>\n",
       "      <td>0.862000</td>\n",
       "      <td>0.005027</td>\n",
       "      <td>2</td>\n",
       "    </tr>\n",
       "    <tr>\n",
       "      <th>11</th>\n",
       "      <td>4.427918</td>\n",
       "      <td>0.128942</td>\n",
       "      <td>1.301943</td>\n",
       "      <td>0.099332</td>\n",
       "      <td>0.0001</td>\n",
       "      <td>None</td>\n",
       "      <td>TfidfVectorizer(analyzer='word', binary=False, decode_error='strict',\\n                dtype=&lt;cl...</td>\n",
       "      <td>(1, 2)</td>\n",
       "      <td>{'classifier__alpha': 0.0001, 'classifier__penalty': None, 'vectorizer': TfidfVectorizer(analyze...</td>\n",
       "      <td>0.856898</td>\n",
       "      <td>0.868838</td>\n",
       "      <td>0.860266</td>\n",
       "      <td>0.862000</td>\n",
       "      <td>0.005027</td>\n",
       "      <td>2</td>\n",
       "    </tr>\n",
       "    <tr>\n",
       "      <th>23</th>\n",
       "      <td>4.726039</td>\n",
       "      <td>0.224878</td>\n",
       "      <td>1.180275</td>\n",
       "      <td>0.040809</td>\n",
       "      <td>1e-05</td>\n",
       "      <td>None</td>\n",
       "      <td>TfidfVectorizer(analyzer='word', binary=False, decode_error='strict',\\n                dtype=&lt;cl...</td>\n",
       "      <td>(1, 2)</td>\n",
       "      <td>{'classifier__alpha': 1e-05, 'classifier__penalty': None, 'vectorizer': TfidfVectorizer(analyzer...</td>\n",
       "      <td>0.856898</td>\n",
       "      <td>0.868838</td>\n",
       "      <td>0.860266</td>\n",
       "      <td>0.862000</td>\n",
       "      <td>0.005027</td>\n",
       "      <td>2</td>\n",
       "    </tr>\n",
       "    <tr>\n",
       "      <th>19</th>\n",
       "      <td>4.457039</td>\n",
       "      <td>0.130324</td>\n",
       "      <td>1.241798</td>\n",
       "      <td>0.056772</td>\n",
       "      <td>1e-05</td>\n",
       "      <td>l2</td>\n",
       "      <td>TfidfVectorizer(analyzer='word', binary=False, decode_error='strict',\\n                dtype=&lt;cl...</td>\n",
       "      <td>(1, 2)</td>\n",
       "      <td>{'classifier__alpha': 1e-05, 'classifier__penalty': 'l2', 'vectorizer': TfidfVectorizer(analyzer...</td>\n",
       "      <td>0.856470</td>\n",
       "      <td>0.867124</td>\n",
       "      <td>0.859837</td>\n",
       "      <td>0.861143</td>\n",
       "      <td>0.004447</td>\n",
       "      <td>5</td>\n",
       "    </tr>\n",
       "  </tbody>\n",
       "</table>\n",
       "</div>"
      ],
      "text/plain": [
       "    mean_fit_time  std_fit_time  mean_score_time  std_score_time  \\\n",
       "31       4.425573      0.084635         1.486683        0.451600   \n",
       "35       4.078279      0.361946         1.323163        0.421963   \n",
       "11       4.427918      0.128942         1.301943        0.099332   \n",
       "23       4.726039      0.224878         1.180275        0.040809   \n",
       "19       4.457039      0.130324         1.241798        0.056772   \n",
       "\n",
       "   param_classifier__alpha param_classifier__penalty  \\\n",
       "31                   1e-06                        l2   \n",
       "35                   1e-06                      None   \n",
       "11                  0.0001                      None   \n",
       "23                   1e-05                      None   \n",
       "19                   1e-05                        l2   \n",
       "\n",
       "                                                                                       param_vectorizer  \\\n",
       "31  TfidfVectorizer(analyzer='word', binary=False, decode_error='strict',\\n                dtype=<cl...   \n",
       "35  TfidfVectorizer(analyzer='word', binary=False, decode_error='strict',\\n                dtype=<cl...   \n",
       "11  TfidfVectorizer(analyzer='word', binary=False, decode_error='strict',\\n                dtype=<cl...   \n",
       "23  TfidfVectorizer(analyzer='word', binary=False, decode_error='strict',\\n                dtype=<cl...   \n",
       "19  TfidfVectorizer(analyzer='word', binary=False, decode_error='strict',\\n                dtype=<cl...   \n",
       "\n",
       "   param_vectorizer__ngram_range  \\\n",
       "31                        (1, 2)   \n",
       "35                        (1, 2)   \n",
       "11                        (1, 2)   \n",
       "23                        (1, 2)   \n",
       "19                        (1, 2)   \n",
       "\n",
       "                                                                                                 params  \\\n",
       "31  {'classifier__alpha': 1e-06, 'classifier__penalty': 'l2', 'vectorizer': TfidfVectorizer(analyzer...   \n",
       "35  {'classifier__alpha': 1e-06, 'classifier__penalty': None, 'vectorizer': TfidfVectorizer(analyzer...   \n",
       "11  {'classifier__alpha': 0.0001, 'classifier__penalty': None, 'vectorizer': TfidfVectorizer(analyze...   \n",
       "23  {'classifier__alpha': 1e-05, 'classifier__penalty': None, 'vectorizer': TfidfVectorizer(analyzer...   \n",
       "19  {'classifier__alpha': 1e-05, 'classifier__penalty': 'l2', 'vectorizer': TfidfVectorizer(analyzer...   \n",
       "\n",
       "    split0_test_score  split1_test_score  split2_test_score  mean_test_score  \\\n",
       "31           0.856470           0.869696           0.864552         0.863571   \n",
       "35           0.856898           0.868838           0.860266         0.862000   \n",
       "11           0.856898           0.868838           0.860266         0.862000   \n",
       "23           0.856898           0.868838           0.860266         0.862000   \n",
       "19           0.856470           0.867124           0.859837         0.861143   \n",
       "\n",
       "    std_test_score  rank_test_score  \n",
       "31        0.005444                1  \n",
       "35        0.005027                2  \n",
       "11        0.005027                2  \n",
       "23        0.005027                2  \n",
       "19        0.004447                5  "
      ]
     },
     "execution_count": 46,
     "metadata": {},
     "output_type": "execute_result"
    }
   ],
   "source": [
    "pd.DataFrame(gs.cv_results_).sort_values(\"rank_test_score\").head(5)"
   ]
  },
  {
   "cell_type": "markdown",
   "metadata": {},
   "source": [
    "# Confronto con modello casuale\n",
    "\n",
    "Il miglior modello restituito dalla Grid Search viene confrontato con un modello che effettua casualmente la sentiment analsys sulle recensioni"
   ]
  },
  {
   "cell_type": "code",
   "execution_count": 47,
   "metadata": {},
   "outputs": [],
   "source": [
    "def score_random_predictions(X, y):\n",
    "    pred = []\n",
    "    len_prediction = len(X)\n",
    "    for i in range(len_prediction):\n",
    "        pred.append(random.sample(['pos', 'neg'], 1)[0])\n",
    "    count = 0\n",
    "    for i in range(len(y)):\n",
    "        if pred[i] == y.values[i]:\n",
    "            count += 1\n",
    "    return count / len(y)"
   ]
  },
  {
   "cell_type": "markdown",
   "metadata": {},
   "source": [
    "L'accuratezza del modello casuale si attesta comprensibilmente sul 50%, essendo questo un problema di classificazione binario con una probabilità di successo di 1/2"
   ]
  },
  {
   "cell_type": "code",
   "execution_count": 48,
   "metadata": {},
   "outputs": [
    {
     "data": {
      "text/plain": [
       "0.491"
      ]
     },
     "execution_count": 48,
     "metadata": {},
     "output_type": "execute_result"
    }
   ],
   "source": [
    "scoring = score_random_predictions(film_reviews_val['review'], film_reviews_val['label'])\n",
    "scoring"
   ]
  },
  {
   "cell_type": "markdown",
   "metadata": {},
   "source": [
    "Questo l'intervallo di confidenza 95% del modello di predizione casuale:"
   ]
  },
  {
   "cell_type": "code",
   "execution_count": 49,
   "metadata": {},
   "outputs": [
    {
     "data": {
      "text/plain": [
       "(0.47313390557488116, 0.5088891137021746)"
      ]
     },
     "execution_count": 49,
     "metadata": {},
     "output_type": "execute_result"
    }
   ],
   "source": [
    "model_conf_interval(scoring, film_reviews_val['review'], film_reviews_val['label'])"
   ]
  },
  {
   "cell_type": "markdown",
   "metadata": {},
   "source": [
    "L'intervallo di confidenza al 99% della differenza dei due modelli dimostra la bontà delle nostre previsioni: con una probabilità del 99% siamo in grado di dire che predire casualmente la classe di ogni istanza sia un'operazione alquanto meno performante dell'utilizzo di un vector space model"
   ]
  },
  {
   "cell_type": "code",
   "execution_count": 50,
   "metadata": {},
   "outputs": [
    {
     "data": {
      "text/plain": [
       "(0.3568403614368606, 0.4131596385631394)"
      ]
     },
     "execution_count": 50,
     "metadata": {},
     "output_type": "execute_result"
    }
   ],
   "source": [
    "model_diff_interval(gs, scoring, film_reviews_val['review'], film_reviews_val['label'], 0.99)"
   ]
  },
  {
   "cell_type": "markdown",
   "metadata": {},
   "source": [
    "# Seconda analisi\n",
    "\n",
    "In una successiva analisi, cerco di migliorare l'accuratezza dei modelli precedenti:\n",
    "- Come filtro utilizzo il TfidfVectorizer, il filtro che ha raggiunto le prestazioni migliori\n",
    "- Come classificatore sostituisco al Perceptron un modello di regressione logistica\n"
   ]
  },
  {
   "cell_type": "markdown",
   "metadata": {},
   "source": [
    "Oltre a ciò, cerco di studiare come preprocessare il testo in maniera ottimale: \n",
    "- per il filtro setto il tokenizer di nltk, che effettua una suddivisione in token più raffinata dei documenti sulla base della conoscenza della lingua inglese.\n",
    "- successivamente, mi chiedo se possa impattare sull'accuratezza la rimozione delle stop words, parole che i motori di ricerca considerano poco significative perché possono essere usate spesso all’ interno delle frasi.\n",
    "- da ultimo, cerco di stabilire una soglia minima di documenti all'interno dei quali una parola debba essere presente per essere considerata dal modello "
   ]
  },
  {
   "cell_type": "markdown",
   "metadata": {},
   "source": [
    "Questi due ultimi aspetti hanno il pregio di ridurre le dimensioni della matrice documenti-termini, in quanto contribuiscono a scartare un certo quantitativo di termini, senza compromettere significavamente l'accuratezza del modello.\n",
    "Inoltre, una soglia minima di documenti permette di scartare termini contenenti errori ortografici, che altrimenti sarebbero interpretati dal filtro come lemmi significativi."
   ]
  },
  {
   "cell_type": "code",
   "execution_count": 51,
   "metadata": {},
   "outputs": [],
   "source": [
    "model = Pipeline([\n",
    "    (\"vectorizer\", TfidfVectorizer(ngram_range=(1,2), sublinear_tf=True)),\n",
    "    (\"classifier\", LogisticRegression(solver=\"saga\"))\n",
    "])"
   ]
  },
  {
   "cell_type": "markdown",
   "metadata": {},
   "source": [
    "Questa la seconda griglia per la Grid Search:\n",
    "- presenza o assenza di un tokenizer per il filtro\n",
    "- presenza o assenza di una soglia minima di documenti, \n",
    "- presenza o assenza di una lista di stopword\n",
    "- peso della regressione per la regressione logistica\n",
    "- tipo di regolarizzazione da adottare"
   ]
  },
  {
   "cell_type": "code",
   "execution_count": 52,
   "metadata": {},
   "outputs": [],
   "source": [
    "stoplist = nltk.corpus.stopwords.words(\"english\")\n",
    "grid_2 = [{\n",
    "    'vectorizer__tokenizer': [None, nltk.word_tokenize],\n",
    "    'vectorizer__min_df': [0, 2],\n",
    "    'vectorizer__stop_words': [None, stoplist],\n",
    "    'classifier__C': [0.1, 10],\n",
    "    'classifier__penalty': ['l1', 'l2']\n",
    "    }]"
   ]
  },
  {
   "cell_type": "code",
   "execution_count": 53,
   "metadata": {},
   "outputs": [],
   "source": [
    "skf = StratifiedKFold(3, shuffle=True, random_state=42)\n",
    "gs_2 = GridSearchCV(model, grid_2, cv=skf, n_jobs=8)\n",
    "gs_2.fit(film_reviews_train[\"review\"], film_reviews_train[\"label\"]);"
   ]
  },
  {
   "cell_type": "markdown",
   "metadata": {},
   "source": [
    "L'accuratezza complessivamente aumenta attestandosi intorno al 90%:"
   ]
  },
  {
   "cell_type": "code",
   "execution_count": 54,
   "metadata": {},
   "outputs": [
    {
     "data": {
      "text/plain": [
       "0.8996666666666666"
      ]
     },
     "execution_count": 54,
     "metadata": {},
     "output_type": "execute_result"
    }
   ],
   "source": [
    "gs_2.score(film_reviews_val['review'], film_reviews_val['label'])"
   ]
  },
  {
   "cell_type": "markdown",
   "metadata": {},
   "source": [
    "Nonostante l'ipotesi di un miglioramento della fase di preprocessing per l'incremento dell'accuratezza del modello, la Grid Search smentisce in parte queste considerazioni:\n",
    "- il miglior risultato non richiede l'utilizzo del tokenizer di nltk nè rimozione delle stop word, che evidentemente vengono ritenute significative nella classificazione effettuata dal modello\n",
    "- una soglia minima di 2 documenti nei quali però devono essere presenti le parole risulta detrminante per una maggior accuratezza"
   ]
  },
  {
   "cell_type": "code",
   "execution_count": 55,
   "metadata": {
    "scrolled": true
   },
   "outputs": [
    {
     "data": {
      "text/plain": [
       "{'classifier__C': 10,\n",
       " 'classifier__penalty': 'l2',\n",
       " 'vectorizer__min_df': 2,\n",
       " 'vectorizer__stop_words': None,\n",
       " 'vectorizer__tokenizer': None}"
      ]
     },
     "execution_count": 55,
     "metadata": {},
     "output_type": "execute_result"
    }
   ],
   "source": [
    "gs_2.best_params_"
   ]
  },
  {
   "cell_type": "code",
   "execution_count": 56,
   "metadata": {},
   "outputs": [
    {
     "data": {
      "text/html": [
       "<div>\n",
       "<style scoped>\n",
       "    .dataframe tbody tr th:only-of-type {\n",
       "        vertical-align: middle;\n",
       "    }\n",
       "\n",
       "    .dataframe tbody tr th {\n",
       "        vertical-align: top;\n",
       "    }\n",
       "\n",
       "    .dataframe thead th {\n",
       "        text-align: right;\n",
       "    }\n",
       "</style>\n",
       "<table border=\"1\" class=\"dataframe\">\n",
       "  <thead>\n",
       "    <tr style=\"text-align: right;\">\n",
       "      <th></th>\n",
       "      <th>mean_fit_time</th>\n",
       "      <th>std_fit_time</th>\n",
       "      <th>mean_score_time</th>\n",
       "      <th>std_score_time</th>\n",
       "      <th>param_classifier__C</th>\n",
       "      <th>param_classifier__penalty</th>\n",
       "      <th>param_vectorizer__min_df</th>\n",
       "      <th>param_vectorizer__stop_words</th>\n",
       "      <th>param_vectorizer__tokenizer</th>\n",
       "      <th>params</th>\n",
       "      <th>split0_test_score</th>\n",
       "      <th>split1_test_score</th>\n",
       "      <th>split2_test_score</th>\n",
       "      <th>mean_test_score</th>\n",
       "      <th>std_test_score</th>\n",
       "      <th>rank_test_score</th>\n",
       "    </tr>\n",
       "  </thead>\n",
       "  <tbody>\n",
       "    <tr>\n",
       "      <th>28</th>\n",
       "      <td>7.234866</td>\n",
       "      <td>0.848706</td>\n",
       "      <td>1.208068</td>\n",
       "      <td>0.103894</td>\n",
       "      <td>10</td>\n",
       "      <td>l2</td>\n",
       "      <td>2</td>\n",
       "      <td>None</td>\n",
       "      <td>None</td>\n",
       "      <td>{'classifier__C': 10, 'classifier__penalty': 'l2', 'vectorizer__min_df': 2, 'vectorizer__stop_wo...</td>\n",
       "      <td>0.883462</td>\n",
       "      <td>0.889413</td>\n",
       "      <td>0.891985</td>\n",
       "      <td>0.888286</td>\n",
       "      <td>0.003570</td>\n",
       "      <td>1</td>\n",
       "    </tr>\n",
       "    <tr>\n",
       "      <th>29</th>\n",
       "      <td>15.630468</td>\n",
       "      <td>0.255474</td>\n",
       "      <td>5.383122</td>\n",
       "      <td>0.087212</td>\n",
       "      <td>10</td>\n",
       "      <td>l2</td>\n",
       "      <td>2</td>\n",
       "      <td>None</td>\n",
       "      <td>&lt;function word_tokenize at 0x0000020FD99E2828&gt;</td>\n",
       "      <td>{'classifier__C': 10, 'classifier__penalty': 'l2', 'vectorizer__min_df': 2, 'vectorizer__stop_wo...</td>\n",
       "      <td>0.881748</td>\n",
       "      <td>0.890699</td>\n",
       "      <td>0.888556</td>\n",
       "      <td>0.887000</td>\n",
       "      <td>0.003816</td>\n",
       "      <td>2</td>\n",
       "    </tr>\n",
       "    <tr>\n",
       "      <th>24</th>\n",
       "      <td>9.264500</td>\n",
       "      <td>1.107429</td>\n",
       "      <td>1.321911</td>\n",
       "      <td>0.028061</td>\n",
       "      <td>10</td>\n",
       "      <td>l2</td>\n",
       "      <td>0</td>\n",
       "      <td>None</td>\n",
       "      <td>None</td>\n",
       "      <td>{'classifier__C': 10, 'classifier__penalty': 'l2', 'vectorizer__min_df': 0, 'vectorizer__stop_wo...</td>\n",
       "      <td>0.878749</td>\n",
       "      <td>0.887270</td>\n",
       "      <td>0.890270</td>\n",
       "      <td>0.885429</td>\n",
       "      <td>0.004880</td>\n",
       "      <td>3</td>\n",
       "    </tr>\n",
       "    <tr>\n",
       "      <th>25</th>\n",
       "      <td>20.139074</td>\n",
       "      <td>0.436714</td>\n",
       "      <td>6.761527</td>\n",
       "      <td>0.325912</td>\n",
       "      <td>10</td>\n",
       "      <td>l2</td>\n",
       "      <td>0</td>\n",
       "      <td>None</td>\n",
       "      <td>&lt;function word_tokenize at 0x0000020FD99E2828&gt;</td>\n",
       "      <td>{'classifier__C': 10, 'classifier__penalty': 'l2', 'vectorizer__min_df': 0, 'vectorizer__stop_wo...</td>\n",
       "      <td>0.877892</td>\n",
       "      <td>0.890699</td>\n",
       "      <td>0.883841</td>\n",
       "      <td>0.884143</td>\n",
       "      <td>0.005233</td>\n",
       "      <td>4</td>\n",
       "    </tr>\n",
       "    <tr>\n",
       "      <th>31</th>\n",
       "      <td>13.514500</td>\n",
       "      <td>0.607063</td>\n",
       "      <td>4.598773</td>\n",
       "      <td>0.102670</td>\n",
       "      <td>10</td>\n",
       "      <td>l2</td>\n",
       "      <td>2</td>\n",
       "      <td>[i, me, my, myself, we, our, ours, ourselves, you, you're, you've, you'll, you'd, your, yours, y...</td>\n",
       "      <td>&lt;function word_tokenize at 0x0000020FD99E2828&gt;</td>\n",
       "      <td>{'classifier__C': 10, 'classifier__penalty': 'l2', 'vectorizer__min_df': 2, 'vectorizer__stop_wo...</td>\n",
       "      <td>0.874036</td>\n",
       "      <td>0.884269</td>\n",
       "      <td>0.886412</td>\n",
       "      <td>0.881571</td>\n",
       "      <td>0.005401</td>\n",
       "      <td>5</td>\n",
       "    </tr>\n",
       "  </tbody>\n",
       "</table>\n",
       "</div>"
      ],
      "text/plain": [
       "    mean_fit_time  std_fit_time  mean_score_time  std_score_time  \\\n",
       "28       7.234866      0.848706         1.208068        0.103894   \n",
       "29      15.630468      0.255474         5.383122        0.087212   \n",
       "24       9.264500      1.107429         1.321911        0.028061   \n",
       "25      20.139074      0.436714         6.761527        0.325912   \n",
       "31      13.514500      0.607063         4.598773        0.102670   \n",
       "\n",
       "   param_classifier__C param_classifier__penalty param_vectorizer__min_df  \\\n",
       "28                  10                        l2                        2   \n",
       "29                  10                        l2                        2   \n",
       "24                  10                        l2                        0   \n",
       "25                  10                        l2                        0   \n",
       "31                  10                        l2                        2   \n",
       "\n",
       "                                                                           param_vectorizer__stop_words  \\\n",
       "28                                                                                                 None   \n",
       "29                                                                                                 None   \n",
       "24                                                                                                 None   \n",
       "25                                                                                                 None   \n",
       "31  [i, me, my, myself, we, our, ours, ourselves, you, you're, you've, you'll, you'd, your, yours, y...   \n",
       "\n",
       "                       param_vectorizer__tokenizer  \\\n",
       "28                                            None   \n",
       "29  <function word_tokenize at 0x0000020FD99E2828>   \n",
       "24                                            None   \n",
       "25  <function word_tokenize at 0x0000020FD99E2828>   \n",
       "31  <function word_tokenize at 0x0000020FD99E2828>   \n",
       "\n",
       "                                                                                                 params  \\\n",
       "28  {'classifier__C': 10, 'classifier__penalty': 'l2', 'vectorizer__min_df': 2, 'vectorizer__stop_wo...   \n",
       "29  {'classifier__C': 10, 'classifier__penalty': 'l2', 'vectorizer__min_df': 2, 'vectorizer__stop_wo...   \n",
       "24  {'classifier__C': 10, 'classifier__penalty': 'l2', 'vectorizer__min_df': 0, 'vectorizer__stop_wo...   \n",
       "25  {'classifier__C': 10, 'classifier__penalty': 'l2', 'vectorizer__min_df': 0, 'vectorizer__stop_wo...   \n",
       "31  {'classifier__C': 10, 'classifier__penalty': 'l2', 'vectorizer__min_df': 2, 'vectorizer__stop_wo...   \n",
       "\n",
       "    split0_test_score  split1_test_score  split2_test_score  mean_test_score  \\\n",
       "28           0.883462           0.889413           0.891985         0.888286   \n",
       "29           0.881748           0.890699           0.888556         0.887000   \n",
       "24           0.878749           0.887270           0.890270         0.885429   \n",
       "25           0.877892           0.890699           0.883841         0.884143   \n",
       "31           0.874036           0.884269           0.886412         0.881571   \n",
       "\n",
       "    std_test_score  rank_test_score  \n",
       "28        0.003570                1  \n",
       "29        0.003816                2  \n",
       "24        0.004880                3  \n",
       "25        0.005233                4  \n",
       "31        0.005401                5  "
      ]
     },
     "execution_count": 56,
     "metadata": {},
     "output_type": "execute_result"
    }
   ],
   "source": [
    "pd.DataFrame(gs_2.cv_results_).sort_values(by='rank_test_score').head()"
   ]
  },
  {
   "cell_type": "markdown",
   "metadata": {},
   "source": [
    "# Confronto fra modelli con maggior accuratezza\n",
    "\n",
    "Questi i migliori modelli prodotti dalle grid search:"
   ]
  },
  {
   "cell_type": "code",
   "execution_count": 57,
   "metadata": {},
   "outputs": [],
   "source": [
    "model_1 = Pipeline([\n",
    "    ('vectorizer', TfidfVectorizer(ngram_range=(1,2))),\n",
    "    ('classifier', Perceptron(alpha=1e-06, penalty='l1'))\n",
    "])\n",
    "model_1.fit(film_reviews_train['review'], film_reviews_train['label']);"
   ]
  },
  {
   "cell_type": "code",
   "execution_count": 58,
   "metadata": {},
   "outputs": [],
   "source": [
    "model_2 = Pipeline([\n",
    "    ('vectorizer', TfidfVectorizer(min_df=2, ngram_range=(1,2))),\n",
    "    ('classifier', LogisticRegression(C=10, penalty='l2'))\n",
    "])\n",
    "model_2.fit(film_reviews_train['review'], film_reviews_train['label']);"
   ]
  },
  {
   "cell_type": "code",
   "execution_count": 59,
   "metadata": {},
   "outputs": [
    {
     "data": {
      "text/plain": [
       "0.8783333333333333"
      ]
     },
     "execution_count": 59,
     "metadata": {},
     "output_type": "execute_result"
    }
   ],
   "source": [
    "model_1.score(film_reviews_val['review'], film_reviews_val['label'])"
   ]
  },
  {
   "cell_type": "code",
   "execution_count": 60,
   "metadata": {},
   "outputs": [
    {
     "data": {
      "text/plain": [
       "0.8996666666666666"
      ]
     },
     "execution_count": 60,
     "metadata": {},
     "output_type": "execute_result"
    }
   ],
   "source": [
    "model_2.score(film_reviews_val['review'], film_reviews_val['label'])"
   ]
  },
  {
   "cell_type": "markdown",
   "metadata": {},
   "source": [
    "Questo l'intervallo di confidenza 95% del primo modello:"
   ]
  },
  {
   "cell_type": "code",
   "execution_count": 61,
   "metadata": {},
   "outputs": [
    {
     "data": {
      "text/plain": [
       "(0.8637231841656314, 0.8873151215929234)"
      ]
     },
     "execution_count": 61,
     "metadata": {},
     "output_type": "execute_result"
    }
   ],
   "source": [
    "model_conf_interval(gs, film_reviews_val['review'], film_reviews_val['label'])"
   ]
  },
  {
   "cell_type": "markdown",
   "metadata": {},
   "source": [
    "Questo l'intervallo di confidenza 95% del secondo modello:"
   ]
  },
  {
   "cell_type": "code",
   "execution_count": 62,
   "metadata": {
    "scrolled": true
   },
   "outputs": [
    {
     "data": {
      "text/plain": [
       "(0.8883992294487809, 0.9099118774701086)"
      ]
     },
     "execution_count": 62,
     "metadata": {},
     "output_type": "execute_result"
    }
   ],
   "source": [
    "model_conf_interval(gs_2, film_reviews_val['review'], film_reviews_val['label'])"
   ]
  },
  {
   "cell_type": "markdown",
   "metadata": {},
   "source": [
    "L'intervallo al 95% della differenza di accuratezza sul validation set per i due modelli dimostra la superiorità in termini di accuratezza del secondo modello: l'intervallo non contiene il valore 0, la differenza è statisticamente rilevante"
   ]
  },
  {
   "cell_type": "code",
   "execution_count": 63,
   "metadata": {},
   "outputs": [
    {
     "data": {
      "text/plain": [
       "(0.007708075678407405, 0.03962525765492582)"
      ]
     },
     "execution_count": 63,
     "metadata": {},
     "output_type": "execute_result"
    }
   ],
   "source": [
    "model_diff_interval(gs, gs_2, film_reviews_val['review'], film_reviews_val['label'])"
   ]
  },
  {
   "cell_type": "markdown",
   "metadata": {},
   "source": [
    "# Valutazione del miglior modello"
   ]
  },
  {
   "cell_type": "markdown",
   "metadata": {},
   "source": [
    "In questa sezione fornisco la rappresentazione dell'accuratezza di classificazione statistica del miglior modello avvalendomi di varie metriche:\n",
    "- rappresento la matrice di confusione, una tabella in cui le previsioni sono rappresentate nelle colonne e lo stato effettivo è rappresentato dalle righe\n",
    "- calcolo precision e recall per la classe `pos` e per la classe `neg`:\n",
    "    - la precision per una classe A misura la percentuale di istanze classificate come A dal modello sulle istanze totali che effettivamente sono di classe A\n",
    "    - la recall per una classe A misura la percentuale di istanze classificate come A dal modello sulle istanze totali che vengono classificate come A\n",
    "- calcolo dell'F1 score: F1 score è calcolata come la media armonica dei valori di precision e di recall\n"
   ]
  },
  {
   "cell_type": "markdown",
   "metadata": {},
   "source": [
    "Questa la matrice di confusione:"
   ]
  },
  {
   "cell_type": "code",
   "execution_count": 64,
   "metadata": {},
   "outputs": [
    {
     "data": {
      "text/html": [
       "<div>\n",
       "<style scoped>\n",
       "    .dataframe tbody tr th:only-of-type {\n",
       "        vertical-align: middle;\n",
       "    }\n",
       "\n",
       "    .dataframe tbody tr th {\n",
       "        vertical-align: top;\n",
       "    }\n",
       "\n",
       "    .dataframe thead th {\n",
       "        text-align: right;\n",
       "    }\n",
       "</style>\n",
       "<table border=\"1\" class=\"dataframe\">\n",
       "  <thead>\n",
       "    <tr style=\"text-align: right;\">\n",
       "      <th></th>\n",
       "      <th>neg</th>\n",
       "      <th>pos</th>\n",
       "    </tr>\n",
       "  </thead>\n",
       "  <tbody>\n",
       "    <tr>\n",
       "      <th>neg</th>\n",
       "      <td>1340</td>\n",
       "      <td>173</td>\n",
       "    </tr>\n",
       "    <tr>\n",
       "      <th>pos</th>\n",
       "      <td>128</td>\n",
       "      <td>1359</td>\n",
       "    </tr>\n",
       "  </tbody>\n",
       "</table>\n",
       "</div>"
      ],
      "text/plain": [
       "      neg   pos\n",
       "neg  1340   173\n",
       "pos   128  1359"
      ]
     },
     "execution_count": 64,
     "metadata": {},
     "output_type": "execute_result"
    }
   ],
   "source": [
    "cm = confusion_matrix(film_reviews_val['label'], model_2.predict(film_reviews_val['review']))\n",
    "pd.DataFrame(cm, index=model_2.named_steps['classifier'].classes_, columns=model_1.named_steps['classifier'].classes_)"
   ]
  },
  {
   "cell_type": "markdown",
   "metadata": {},
   "source": [
    "Questi i valori delle metriche di precision e recall per il modello:"
   ]
  },
  {
   "cell_type": "code",
   "execution_count": 65,
   "metadata": {},
   "outputs": [
    {
     "name": "stdout",
     "output_type": "stream",
     "text": [
      "Precision per classe 'pos': 0.8870757180156658\n",
      "Precision per classe 'neg': 0.9128065395095368\n",
      "Recall per classe 'pos': 0.9139206455951581\n",
      "Recall per classe 'neg': 0.8856576338400529\n"
     ]
    }
   ],
   "source": [
    "print('Precision per classe \\'pos\\': ' + str(precision_score(film_reviews_val['label'], model_2.predict(film_reviews_val['review']), pos_label=\"pos\")))\n",
    "print('Precision per classe \\'neg\\': ' + str(precision_score(film_reviews_val['label'], model_2.predict(film_reviews_val['review']), pos_label=\"neg\")))\n",
    "print('Recall per classe \\'pos\\': ' + str(recall_score(film_reviews_val['label'], model_2.predict(film_reviews_val['review']), pos_label=\"pos\")))\n",
    "print('Recall per classe \\'neg\\': ' + str(recall_score(film_reviews_val['label'], model_2.predict(film_reviews_val['review']), pos_label=\"neg\")))"
   ]
  },
  {
   "cell_type": "code",
   "execution_count": 66,
   "metadata": {},
   "outputs": [
    {
     "name": "stdout",
     "output_type": "stream",
     "text": [
      "F1 score: [0.89902717 0.90029811]\n"
     ]
    }
   ],
   "source": [
    "print(\"F1 score: \" + str(f1_score(film_reviews_val['label'], model_2.predict(film_reviews_val['review']), average=None)))"
   ]
  },
  {
   "cell_type": "code",
   "execution_count": 67,
   "metadata": {},
   "outputs": [],
   "source": [
    "coefs_2 = pd.Series(model_2.named_steps['classifier'].coef_[0], index=model_2.named_steps['vectorizer'].get_feature_names())"
   ]
  },
  {
   "cell_type": "code",
   "execution_count": 68,
   "metadata": {},
   "outputs": [],
   "source": [
    "coefs_2.sort_values(inplace=True, ascending=False)"
   ]
  },
  {
   "cell_type": "markdown",
   "metadata": {},
   "source": [
    "Di seguito, mostro i coefficienti che sono stati attribuiti ai termini per effettuare la classificazione:\n",
    "- ai termini che sono contenuti nelle recensioni positive sono stati assegnati coefficienti positivi, mentre per i lemmi associati alle recensioni negative sono stati attribuiti coefficienti negativi\n",
    "- pertanto, i coefficienti sono stati ordinati, per permettere la visualizzazione a video dei termini che più hanno pesato nella sentiment analisys delle recensioni"
   ]
  },
  {
   "cell_type": "markdown",
   "metadata": {},
   "source": [
    "Di seguito sono riportati i termini \"più positivi\" e i loro coefficienti:"
   ]
  },
  {
   "cell_type": "code",
   "execution_count": 69,
   "metadata": {},
   "outputs": [
    {
     "data": {
      "text/plain": [
       "great        10.315396\n",
       "excellent     7.226280\n",
       "well          6.325350\n",
       "wonderful     5.907176\n",
       "best          5.816539\n",
       "the best      5.739493\n",
       "and           5.438185\n",
       "it            4.885631\n",
       "brilliant     4.812058\n",
       "amazing       4.754324\n",
       "dtype: float64"
      ]
     },
     "execution_count": 69,
     "metadata": {},
     "output_type": "execute_result"
    }
   ],
   "source": [
    "coefs_2.head(10)"
   ]
  },
  {
   "cell_type": "markdown",
   "metadata": {},
   "source": [
    "Seguiti dai termini \"più negativi\" ed i loro coefficienti:"
   ]
  },
  {
   "cell_type": "code",
   "execution_count": 70,
   "metadata": {
    "scrolled": true
   },
   "outputs": [
    {
     "data": {
      "text/plain": [
       "no           -6.060528\n",
       "stupid       -6.239139\n",
       "nothing      -6.719048\n",
       "terrible     -7.067089\n",
       "boring       -7.287966\n",
       "the worst    -7.344203\n",
       "awful        -7.700127\n",
       "poor         -8.087140\n",
       "worst        -9.156375\n",
       "bad         -11.266667\n",
       "dtype: float64"
      ]
     },
     "execution_count": 70,
     "metadata": {},
     "output_type": "execute_result"
    }
   ],
   "source": [
    "coefs_2.tail(10)"
   ]
  },
  {
   "cell_type": "markdown",
   "metadata": {},
   "source": [
    "Da notare la presenza di digrammi, a dimostrazione del fatto che la considerazione di token più lunghi di una parola sia determinante per un miglioramento dell'accuratezza"
   ]
  },
  {
   "cell_type": "markdown",
   "metadata": {},
   "source": [
    "# APPROCCIO LSA PER TEXT PROCESSING\n",
    "\n",
    "LSA (Latent semantic analysis, anche conosciuta come Latent semantic\n",
    "indexing) è una tecnica di analisi semantica utilizzata nel natural language\n",
    "processing che consente di approfondire la conoscenza del contenuto di un\n",
    "documento, oltre ad individuare la relazione tra i termini che lo compongono."
   ]
  },
  {
   "cell_type": "markdown",
   "metadata": {},
   "source": [
    "- dai singoli documenti vengono estrapolati i concetti rilevanti di cui trattano.\n",
    "- I documenti del corpus vengono rappresentati tramite la matrice documenti - termini\n",
    "-  successivamente vengono utilizzate tecniche di decomposizione esemplificazione matriciale per ottenere una significativa riduzione delle dimensioni delle matrici di partenza in modo da meglio caratterizzare idocumenti contenuti nel corpus."
   ]
  },
  {
   "cell_type": "markdown",
   "metadata": {},
   "source": [
    " LSA sfrutta principalmente una tecnica di decomposizione matriciale chiamata Singular Value Decomposition:\n",
    "\n",
    "   - fra il filtro TfidfVectorizer (dove il valore tf è rimpiazzato con `1 + log(tf)`) è impostato un filtro `TruncatedSVD` per la decomposizione SVD\n",
    "   - il filtro `TruncatedSVD` è settato con un numero di componenti pari a 400 e il numero di iterazioni da compiere è impostato a 4, dato l'elevato numero di componenti \n",
    "   - ciascun vettore è normalizzato successivamente con norma a 1 dato che i risultati di LSA/SVD non lo sono"
   ]
  },
  {
   "cell_type": "markdown",
   "metadata": {},
   "source": [
    "La classificazione viene effettuata con un modello di regressione logistica come nelle precedenti analisi"
   ]
  },
  {
   "cell_type": "code",
   "execution_count": 71,
   "metadata": {},
   "outputs": [],
   "source": [
    "LSA_model = Pipeline([\n",
    "    ('vectorizer', TfidfVectorizer(sublinear_tf=True, ngram_range=(1, 2), min_df=2)),\n",
    "    ('svd_truncated', TruncatedSVD(n_components=400, n_iter=4, algorithm='randomized', random_state=42)),\n",
    "    ('norm', Normalizer(copy=False)),\n",
    "    ('classifier', LogisticRegression(solver='saga', C=10))\n",
    "])"
   ]
  },
  {
   "cell_type": "markdown",
   "metadata": {},
   "source": [
    "Il modello di Regressione Logistica riceve in ingresso una matrice delle dimensioni di `n_documents` * `n_components`, con una riduzione dimensionale netta a fronte di una perdita di accuratezza, che si attesta intorno all'88%"
   ]
  },
  {
   "cell_type": "code",
   "execution_count": 72,
   "metadata": {},
   "outputs": [
    {
     "data": {
      "text/plain": [
       "0.887"
      ]
     },
     "execution_count": 72,
     "metadata": {},
     "output_type": "execute_result"
    }
   ],
   "source": [
    "LSA_model.fit(film_reviews_train['review'], film_reviews_train['label']);\n",
    "LSA_model.score(film_reviews_val['review'],film_reviews_val['label'])"
   ]
  },
  {
   "cell_type": "markdown",
   "metadata": {},
   "source": [
    "Questo l'intervallo di confidenza al 95% di questo modello:"
   ]
  },
  {
   "cell_type": "code",
   "execution_count": 73,
   "metadata": {},
   "outputs": [
    {
     "data": {
      "text/plain": [
       "(0.8751726000741885, 0.8978375710124092)"
      ]
     },
     "execution_count": 73,
     "metadata": {},
     "output_type": "execute_result"
    }
   ],
   "source": [
    "model_conf_interval(LSA_model, film_reviews_val['review'], film_reviews_val['label'])"
   ]
  },
  {
   "cell_type": "markdown",
   "metadata": {},
   "source": [
    "Questo l'intervallo di confidenza al 95% della differenza fra quest'ultimo ed il modello prodotto nella seconda analisi: l'intervallo (che contiene lo 0) dimostra che la perdita di accuratezza in realtà risulta non statisticamente significativa per il nostro problema"
   ]
  },
  {
   "cell_type": "code",
   "execution_count": 74,
   "metadata": {},
   "outputs": [
    {
     "data": {
      "text/plain": [
       "(-0.002951576033346715, 0.028284909366679923)"
      ]
     },
     "execution_count": 74,
     "metadata": {},
     "output_type": "execute_result"
    }
   ],
   "source": [
    "model_diff_interval(LSA_model, model_2, film_reviews_val['review'], film_reviews_val['label'])"
   ]
  },
  {
   "cell_type": "markdown",
   "metadata": {},
   "source": [
    "Il vero vantaggio di quest'ultimo approccio risulta però dalla riduzione consistente delle dimensionalità"
   ]
  },
  {
   "cell_type": "markdown",
   "metadata": {},
   "source": [
    "Questa è la matrice prodotta dal filtro TfidfVectorizer: seppur sparsa, si tratta di una matrice di 7000 righe (numero di recensioni usate per il fitting del modello) e 153942 colonne (i termini identificati nei documenti):"
   ]
  },
  {
   "cell_type": "code",
   "execution_count": 75,
   "metadata": {},
   "outputs": [
    {
     "data": {
      "text/plain": [
       "<7000x153782 sparse matrix of type '<class 'numpy.float64'>'\n",
       "\twith 1935478 stored elements in Compressed Sparse Row format>"
      ]
     },
     "execution_count": 75,
     "metadata": {},
     "output_type": "execute_result"
    }
   ],
   "source": [
    "first_matrix = LSA_model.named_steps['vectorizer'].transform(film_reviews_train['review'])\n",
    "first_matrix"
   ]
  },
  {
   "cell_type": "markdown",
   "metadata": {},
   "source": [
    "Applicando la decomposizione SVD a tale matrice, la dimensionalità è ridotta nettamente:"
   ]
  },
  {
   "cell_type": "code",
   "execution_count": 76,
   "metadata": {},
   "outputs": [
    {
     "data": {
      "text/plain": [
       "(7000, 400)"
      ]
     },
     "execution_count": 76,
     "metadata": {},
     "output_type": "execute_result"
    }
   ],
   "source": [
    "LSA_model.named_steps['svd_truncated'].transform(first_matrix).shape"
   ]
  },
  {
   "cell_type": "code",
   "execution_count": 77,
   "metadata": {},
   "outputs": [
    {
     "data": {
      "text/plain": [
       "521.3216955661774"
      ]
     },
     "execution_count": 77,
     "metadata": {},
     "output_type": "execute_result"
    }
   ],
   "source": [
    "elapsed = time.time() - t\n",
    "elapsed #tempo richiesto dall'esecuzione del Notebook in secondi"
   ]
  },
  {
   "cell_type": "code",
   "execution_count": null,
   "metadata": {},
   "outputs": [],
   "source": []
  }
 ],
 "metadata": {
  "kernelspec": {
   "display_name": "Python 3",
   "language": "python",
   "name": "python3"
  },
  "language_info": {
   "codemirror_mode": {
    "name": "ipython",
    "version": 3
   },
   "file_extension": ".py",
   "mimetype": "text/x-python",
   "name": "python",
   "nbconvert_exporter": "python",
   "pygments_lexer": "ipython3",
   "version": "3.7.4"
  }
 },
 "nbformat": 4,
 "nbformat_minor": 2
}
